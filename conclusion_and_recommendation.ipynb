{
 "cells": [
  {
   "cell_type": "markdown",
   "id": "865c7953",
   "metadata": {},
   "source": [
    "# **Telco Customer Retention: Churn Prediction and Feedback Insights Using Classification and Topic Modelling**"
   ]
  },
  {
   "cell_type": "markdown",
   "id": "96c766b1",
   "metadata": {},
   "source": [
    "## I. Conclusion"
   ]
  },
  {
   "cell_type": "markdown",
   "id": "fc9f69a6",
   "metadata": {},
   "source": [
    "Based on our analysis, customers who are still on a month-to-month contract were primarily disappointed by the high prices and the automatic contract renewal with contract different terms without prior notice. Our competitor offers a much better price for their higher-tier packages compared to ours, indicating a need to improve our pricing strategy to enhance customer retention. Our model performs well in predicting churn and extracting topics from customer reviews, so we can improve our customers churn to below 22%."
   ]
  },
  {
   "cell_type": "markdown",
   "id": "8c2cfe79",
   "metadata": {},
   "source": [
    "## II. Recommendation"
   ]
  },
  {
   "cell_type": "markdown",
   "id": "7172fb24",
   "metadata": {},
   "source": [
    "We can achieve our churn reduction target by improving the quality of our higher-tier packages. It’s essential that our premium package delivers better quality, as customers in this segment expect high performance for the price they pay. If we intend to maintain our current pricing, enhancing the quality of our services is crucial. We must avoid situations where we invest in customer acquisition, only to lose those customers shortly after—especially since acquisition costs can be up to five times higher than retention costs.\n",
    "\n",
    "In addition to improving the premium package, we need to enhance the automatic contract renewal process. This can be done by providing customers with prior notice when contract terms are set to change. Doing so can reduce customer dissatisfaction, regardless of whether they choose to churn. With the rise of social media, unresolved issues like these can seriously damage our brand reputation if not addressed properly.\n",
    "\n",
    "Regarding our model, we can consider using the Qwen 3 embedding model instead of all-MiniLM, as it achieves significantly better on sentence similarity scores. By using Qwen 3 embeddings, we can improve the performance of our system in identifying topic similarity based on user-input sentences or paragraphs."
   ]
  },
  {
   "cell_type": "markdown",
   "id": "19084714",
   "metadata": {},
   "source": []
  }
 ],
 "metadata": {
  "language_info": {
   "name": "python"
  }
 },
 "nbformat": 4,
 "nbformat_minor": 5
}

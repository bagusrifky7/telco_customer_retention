{
 "cells": [
  {
   "cell_type": "markdown",
   "id": "b5042762",
   "metadata": {},
   "source": [
    "# **Telco Customer Retention: Churn Prediction and Feedback Insights Using Classification and Topic Modelling**"
   ]
  },
  {
   "cell_type": "markdown",
   "id": "3ba9d252",
   "metadata": {},
   "source": [
    "## I. Import Libraries"
   ]
  },
  {
   "cell_type": "code",
   "execution_count": 19,
   "id": "f086d16b",
   "metadata": {},
   "outputs": [
    {
     "name": "stderr",
     "output_type": "stream",
     "text": [
      "[nltk_data] Downloading package stopwords to\n",
      "[nltk_data]     C:\\Users\\Asus\\AppData\\Roaming\\nltk_data...\n",
      "[nltk_data]   Package stopwords is already up-to-date!\n",
      "[nltk_data] Downloading package punkt_tab to\n",
      "[nltk_data]     C:\\Users\\Asus\\AppData\\Roaming\\nltk_data...\n",
      "[nltk_data]   Package punkt_tab is already up-to-date!\n",
      "[nltk_data] Downloading package wordnet to\n",
      "[nltk_data]     C:\\Users\\Asus\\AppData\\Roaming\\nltk_data...\n",
      "[nltk_data]   Package wordnet is already up-to-date!\n",
      "[nltk_data] Downloading package vader_lexicon to\n",
      "[nltk_data]     C:\\Users\\Asus\\AppData\\Roaming\\nltk_data...\n",
      "[nltk_data]   Package vader_lexicon is already up-to-date!\n"
     ]
    },
    {
     "data": {
      "text/plain": [
       "True"
      ]
     },
     "execution_count": 19,
     "metadata": {},
     "output_type": "execute_result"
    }
   ],
   "source": [
    "import hf_xet\n",
    "import bertopic\n",
    "import pandas as pd\n",
    "import numpy as np\n",
    "from bertopic import BERTopic\n",
    "import re\n",
    "import nltk\n",
    "import pickle, json\n",
    "\n",
    "from nltk.tokenize import word_tokenize\n",
    "from nltk.corpus import stopwords\n",
    "from sentence_transformers import SentenceTransformer\n",
    "\n",
    "nltk.download('stopwords')\n",
    "nltk.download('punkt_tab')\n",
    "nltk.download('wordnet')\n",
    "nltk.download('vader_lexicon')"
   ]
  },
  {
   "cell_type": "markdown",
   "id": "772e5265",
   "metadata": {},
   "source": [
    "## II. Model Load"
   ]
  },
  {
   "cell_type": "code",
   "execution_count": 20,
   "id": "8e215d67",
   "metadata": {},
   "outputs": [],
   "source": [
    "# load numeric column data\n",
    "with open('num_cols.txt', 'r') as f_num:\n",
    "  num_cols = json.load(f_num)\n",
    "\n",
    "# load categorical column data\n",
    "with open('cat_cols.txt', 'r') as f_cat:\n",
    "  cat_cols = json.load(f_cat)\n",
    "\n",
    "# load clasification model\n",
    "with open('best_model.pkl', 'rb') as f_model:\n",
    "  best_model = pickle.load(f_model)\n",
    "\n",
    "model = BERTopic.load(\"bertopic_model\")"
   ]
  },
  {
   "cell_type": "markdown",
   "id": "75fd3321",
   "metadata": {},
   "source": [
    "## II. Data Input"
   ]
  },
  {
   "cell_type": "markdown",
   "id": "ab9a657d",
   "metadata": {},
   "source": [
    "### A. Input for Classification Models"
   ]
  },
  {
   "cell_type": "markdown",
   "id": "49af3149",
   "metadata": {},
   "source": [
    "| Column | User |\n",
    "| --- | --- |\n",
    "| customerID | 4500-ruyt |\n",
    "| gender | male |\n",
    "| SeniorCitizen | no |\n",
    "| Partner | no |\n",
    "| Dependents | no |\n",
    "| tenure | 12 |\n",
    "| PhoneService | no |\n",
    "| MultipleLines | no |\n",
    "| InternetService | fiber optic |\n",
    "| OnlineSecurity | yes |\n",
    "| StreamingTV | yes |\n",
    "| Contract | month-to-month |\n",
    "| PaperlessBilling | yes |\n",
    "| PaymentMethod | electronic check |\n",
    "| MonthlyCharges | 30.00 |\n",
    "| TotalCharges | 360.00 |"
   ]
  },
  {
   "cell_type": "code",
   "execution_count": 21,
   "id": "120b19e7",
   "metadata": {},
   "outputs": [],
   "source": [
    "# user input for classification\n",
    "customer_id = '4500-ruyt'\n",
    "gender = 'male'\n",
    "senior_citizen = 'no'\n",
    "partner = 'no'\n",
    "dependents = 'no'\n",
    "tenure = 12\n",
    "phone_service = 'no'\n",
    "multiple_lines = 'no'\n",
    "internet_service = 'fiber optic'\n",
    "online_security = 'yes'\n",
    "streaming_tv = 'yes'\n",
    "contract = 'month-to-month'\n",
    "paperless_billing = 'yes'\n",
    "payment_method = 'electronic check'\n",
    "monthly_charges = 30.00\n",
    "total_charges = 360.00"
   ]
  },
  {
   "cell_type": "code",
   "execution_count": 22,
   "id": "fe321b0e",
   "metadata": {},
   "outputs": [
    {
     "data": {
      "application/vnd.microsoft.datawrangler.viewer.v0+json": {
       "columns": [
        {
         "name": "index",
         "rawType": "int64",
         "type": "integer"
        },
        {
         "name": "customer_id",
         "rawType": "object",
         "type": "string"
        },
        {
         "name": "gender",
         "rawType": "object",
         "type": "string"
        },
        {
         "name": "senior_citizen",
         "rawType": "object",
         "type": "string"
        },
        {
         "name": "partner",
         "rawType": "object",
         "type": "string"
        },
        {
         "name": "dependents",
         "rawType": "object",
         "type": "string"
        },
        {
         "name": "tenure",
         "rawType": "int64",
         "type": "integer"
        },
        {
         "name": "phone_service",
         "rawType": "object",
         "type": "string"
        },
        {
         "name": "multiple_lines",
         "rawType": "object",
         "type": "string"
        },
        {
         "name": "internet_service",
         "rawType": "object",
         "type": "string"
        },
        {
         "name": "online_security",
         "rawType": "object",
         "type": "string"
        },
        {
         "name": "streaming_tv",
         "rawType": "object",
         "type": "string"
        },
        {
         "name": "contract",
         "rawType": "object",
         "type": "string"
        },
        {
         "name": "paperless_billing",
         "rawType": "object",
         "type": "string"
        },
        {
         "name": "payment_method",
         "rawType": "object",
         "type": "string"
        },
        {
         "name": "monthly_charges",
         "rawType": "float64",
         "type": "float"
        },
        {
         "name": "total_charges",
         "rawType": "float64",
         "type": "float"
        }
       ],
       "ref": "d633e3d5-1302-4f87-8953-d055f1e2ed92",
       "rows": [
        [
         "0",
         "4500-ruyt",
         "male",
         "no",
         "no",
         "no",
         "12",
         "no",
         "no",
         "fiber optic",
         "yes",
         "yes",
         "month-to-month",
         "yes",
         "electronic check",
         "30.0",
         "360.0"
        ]
       ],
       "shape": {
        "columns": 16,
        "rows": 1
       }
      },
      "text/html": [
       "<div>\n",
       "<style scoped>\n",
       "    .dataframe tbody tr th:only-of-type {\n",
       "        vertical-align: middle;\n",
       "    }\n",
       "\n",
       "    .dataframe tbody tr th {\n",
       "        vertical-align: top;\n",
       "    }\n",
       "\n",
       "    .dataframe thead th {\n",
       "        text-align: right;\n",
       "    }\n",
       "</style>\n",
       "<table border=\"1\" class=\"dataframe\">\n",
       "  <thead>\n",
       "    <tr style=\"text-align: right;\">\n",
       "      <th></th>\n",
       "      <th>customer_id</th>\n",
       "      <th>gender</th>\n",
       "      <th>senior_citizen</th>\n",
       "      <th>partner</th>\n",
       "      <th>dependents</th>\n",
       "      <th>tenure</th>\n",
       "      <th>phone_service</th>\n",
       "      <th>multiple_lines</th>\n",
       "      <th>internet_service</th>\n",
       "      <th>online_security</th>\n",
       "      <th>streaming_tv</th>\n",
       "      <th>contract</th>\n",
       "      <th>paperless_billing</th>\n",
       "      <th>payment_method</th>\n",
       "      <th>monthly_charges</th>\n",
       "      <th>total_charges</th>\n",
       "    </tr>\n",
       "  </thead>\n",
       "  <tbody>\n",
       "    <tr>\n",
       "      <th>0</th>\n",
       "      <td>4500-ruyt</td>\n",
       "      <td>male</td>\n",
       "      <td>no</td>\n",
       "      <td>no</td>\n",
       "      <td>no</td>\n",
       "      <td>12</td>\n",
       "      <td>no</td>\n",
       "      <td>no</td>\n",
       "      <td>fiber optic</td>\n",
       "      <td>yes</td>\n",
       "      <td>yes</td>\n",
       "      <td>month-to-month</td>\n",
       "      <td>yes</td>\n",
       "      <td>electronic check</td>\n",
       "      <td>30.0</td>\n",
       "      <td>360.0</td>\n",
       "    </tr>\n",
       "  </tbody>\n",
       "</table>\n",
       "</div>"
      ],
      "text/plain": [
       "  customer_id gender senior_citizen partner dependents  tenure phone_service  \\\n",
       "0   4500-ruyt   male             no      no         no      12            no   \n",
       "\n",
       "  multiple_lines internet_service online_security streaming_tv  \\\n",
       "0             no      fiber optic             yes          yes   \n",
       "\n",
       "         contract paperless_billing    payment_method  monthly_charges  \\\n",
       "0  month-to-month               yes  electronic check             30.0   \n",
       "\n",
       "   total_charges  \n",
       "0          360.0  "
      ]
     },
     "execution_count": 22,
     "metadata": {},
     "output_type": "execute_result"
    }
   ],
   "source": [
    "# make it into dataframe\n",
    "data = pd.DataFrame([{'customer_id': customer_id,\n",
    "                     'gender': gender,\n",
    "                     'senior_citizen': senior_citizen,\n",
    "                     'partner': partner,\n",
    "                     'dependents': dependents,\n",
    "                     'tenure': tenure,\n",
    "                     'phone_service': phone_service,\n",
    "                     'multiple_lines': multiple_lines,\n",
    "                     'internet_service': internet_service,\n",
    "                     'online_security': online_security,\n",
    "                     'streaming_tv': streaming_tv,\n",
    "                     'contract': contract,\n",
    "                     'paperless_billing': paperless_billing,\n",
    "                     'payment_method': payment_method,\n",
    "                     'monthly_charges': monthly_charges,\n",
    "                     'total_charges': total_charges\n",
    "                     }])\n",
    "\n",
    "df_class = data.copy()\n",
    "df_class"
   ]
  },
  {
   "cell_type": "markdown",
   "id": "cf809473",
   "metadata": {},
   "source": [
    "### B. Input for NLP Models"
   ]
  },
  {
   "cell_type": "markdown",
   "id": "e19118ef",
   "metadata": {},
   "source": [
    "| Column | User |\n",
    "| --- | --- |\n",
    "| customer_feedback | The intenet service is bad For me. it is has expensive monthly charges, might switch to another provider. |"
   ]
  },
  {
   "cell_type": "code",
   "execution_count": 23,
   "id": "854d3062",
   "metadata": {},
   "outputs": [],
   "source": [
    "# we will use random review\n",
    "review = \"The intenet service is bad For me. it is has expensive monthly charges, might switch to another provider.\""
   ]
  },
  {
   "cell_type": "markdown",
   "id": "ed21dd43",
   "metadata": {},
   "source": [
    "## III. Prediction Process"
   ]
  },
  {
   "cell_type": "code",
   "execution_count": 24,
   "id": "6e558c84",
   "metadata": {},
   "outputs": [],
   "source": [
    "# function for churn production\n",
    "def predict_churn(table):\n",
    "    # predict churn or not\n",
    "    y_pred_inf = best_model.predict(table)\n",
    "\n",
    "    # if 1 is churn and 0 is not churn\n",
    "    if y_pred_inf == 1:\n",
    "        print('Customer predicted will churn')\n",
    "    else:\n",
    "        print('Customer predicted will not Churn')"
   ]
  },
  {
   "cell_type": "code",
   "execution_count": 25,
   "id": "e70c1a00",
   "metadata": {},
   "outputs": [
    {
     "name": "stdout",
     "output_type": "stream",
     "text": [
      "Customer predicted will churn\n"
     ]
    }
   ],
   "source": [
    "# prediction result\n",
    "predict_churn(df_class)"
   ]
  },
  {
   "cell_type": "markdown",
   "id": "5bd75d17",
   "metadata": {},
   "source": [
    "Explanation:\n",
    "\n",
    "We get the result that the customers will churn. From the data we use as input, we set the contract type to month-to-month, 12-month tenure, and having no partner. In the Exploratory Data Analysis Section, customers have the tendency to churn, because customers that is a single widowers or divorcees tend to move a lot, and generally have short-term loyalty. We can say the model performed well when we did the inference process."
   ]
  },
  {
   "cell_type": "markdown",
   "id": "1f19c633",
   "metadata": {},
   "source": [
    "## IV. Suggested Topic"
   ]
  },
  {
   "cell_type": "code",
   "execution_count": null,
   "id": "c5842b1c",
   "metadata": {},
   "outputs": [],
   "source": [
    "# create function for show sentiment and best topics\n",
    "def show_best_topic(text):\n",
    "    # transform process\n",
    "    topics, probs = model.transform([text])\n",
    "\n",
    "    # get top topic index\n",
    "    topic_index = topics[0]\n",
    "\n",
    "    # get top keywords\n",
    "    main_topic_words = model.get_topic(topic_index)\n",
    "    main_keywords = [word for word, _ in main_topic_words[:5]]  # top 5 keywords\n",
    "\n",
    "    print(\"- Suggested Topic\")\n",
    "    if topic_index == -1:\n",
    "        print(\"Customers satisfied with the product\")\n",
    "    elif topic_index == 0:\n",
    "        print(\"Customers satisfied with internet experience.\")\n",
    "    elif topic_index == 1:\n",
    "        print(\"Customers complaining about internet connectivity, customer support, and buggy payment app.\")\n",
    "    elif topic_index == 2:\n",
    "        print(\"Customers complaining about added extras with extra charges without warning.\")\n",
    "    elif topic_index == 3:\n",
    "        print(\"Customers complaining with overly technical customer support email.\")\n",
    "    elif topic_index == 4:\n",
    "        print(\"Customers complaining about renewed contract with different terms.\")\n",
    "    elif topic_index == 5:\n",
    "        print(\"Customers complaining about slow respond from customer support.\")\n",
    "    elif topic_index == 6:\n",
    "        print(\"Customers complaining about buffering video streaming.\")\n",
    "    elif topic_index == 7:\n",
    "        print(\"Customers satisfied with customer support, but with minimal user-friendly documentation.\")\n",
    "    else:\n",
    "        print(\"Customers complaining about confusing bills and reconsider to cancelling their subscriptions.\")\n",
    "    print(f\"Keywords: {', '.join(main_keywords)}\\n\")\n",
    "\n",
    "    # find related topic\n",
    "    print(\"- Related Topics (Keywords):\")\n",
    "    similar_topic_indices, _ = model.find_topics(text, top_n=5)\n",
    "    for id in similar_topic_indices:\n",
    "        if id == topic_index:\n",
    "            continue  # skip the main topic\n",
    "        related_words = model.get_topic(id)\n",
    "        related_keywords = [word for word, _ in related_words[:5]]\n",
    "\n",
    "        if id == -1:\n",
    "            print(\"Customers satisfied with the product\")\n",
    "        elif id == 0:\n",
    "            print(\"Customers satisfied with internet experience.\")\n",
    "        elif id == 1:\n",
    "            print(\"Customers complaining about internet connectivity, customer support, and buggy payment app.\")\n",
    "        elif id == 2:\n",
    "            print(\"Customers complaining about added extras with extra charges without warning.\")\n",
    "        elif id == 3:\n",
    "            print(\"Customers complaining with overly technical customer support email.\")\n",
    "        elif id == 4:\n",
    "            print(\"Customers complaining about renewed contract with different terms.\")\n",
    "        elif id == 5:\n",
    "            print(\"Customers complaining about slow respond from customer support.\")\n",
    "        elif id == 6:\n",
    "            print(\"Customers complaining about buffering video streaming.\")\n",
    "        elif id == 7:\n",
    "            print(\"Customers satisfied with customer support, but with minimal user-friendly documentation.\")\n",
    "        else:\n",
    "            print(\"Customers complaining about confusing bills and reconsider to cancelling their subscriptions.\")\n",
    "        print(f\"Keywords: {', '.join(related_keywords)}\")"
   ]
  },
  {
   "cell_type": "code",
   "execution_count": 31,
   "id": "bdba7406",
   "metadata": {},
   "outputs": [
    {
     "name": "stdout",
     "output_type": "stream",
     "text": [
      "- Suggested Topic\n",
      "Customers complaining about internet connectivity, customer support, and buggy payment app.\n",
      "Keywords: drops, support, ages, terrible, buggy\n",
      "\n",
      "- Related Topics (Keywords):\n",
      "Customers satisfied with internet experience.\n",
      "Keywords: internet, month, monthly, charges, satisfied\n",
      "Customers satisfied with the product\n",
      "Keywords: overall, churn, check, would, others\n",
      "Customers complaining about buffering video streaming.\n",
      "Keywords: drop, video, everything, looked, calls\n",
      "Customers complaining about slow respond from customer support.\n",
      "Keywords: days, usable, right, polite, perfectly\n"
     ]
    }
   ],
   "source": [
    "# give suggested topics\n",
    "show_best_topic(review)"
   ]
  },
  {
   "cell_type": "markdown",
   "id": "2c34f62f",
   "metadata": {},
   "source": [
    "Explanation:\n",
    "\n",
    "Based on the result we got, the suggested topic from the review is that customers often complain about internet connectivity, customer support, and a buggy payment app, but we knew that the reviews were customers complaining about the quality of internet service and expensive monthly charges. If we look at the related keywords, the topics that are close to customer reviews are. It is influenced by the data that the majority of them are positive sentiments. If we look at related topics, the keywords are much more related to the review we have input is about customers complaining about buffering video streaming, since the reviews are complaining about bad internet services. This result is influenced by the performance of our embedding models, since the semantic similarity score is 37.47. The best embedding model is Qwen3-embedding-model with a semantic similarity score of 81.00."
   ]
  },
  {
   "cell_type": "markdown",
   "id": "31bc332e",
   "metadata": {},
   "source": []
  }
 ],
 "metadata": {
  "kernelspec": {
   "display_name": "tensorflow_env",
   "language": "python",
   "name": "python3"
  },
  "language_info": {
   "codemirror_mode": {
    "name": "ipython",
    "version": 3
   },
   "file_extension": ".py",
   "mimetype": "text/x-python",
   "name": "python",
   "nbconvert_exporter": "python",
   "pygments_lexer": "ipython3",
   "version": "3.9.21"
  }
 },
 "nbformat": 4,
 "nbformat_minor": 5
}
